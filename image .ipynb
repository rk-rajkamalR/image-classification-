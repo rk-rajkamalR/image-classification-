{
 "cells": [
  {
   "cell_type": "code",
   "execution_count": null,
   "id": "f71c6fad-d9f2-4e1b-9bcf-8c6cc32f4072",
   "metadata": {},
   "outputs": [
    {
     "name": "stdout",
     "output_type": "stream",
     "text": [
      "[True] [0.43664297]\n"
     ]
    }
   ],
   "source": [
    "import face_recognition\n",
    "import cv2\n",
    "\n",
    "img1=face_recognition.load_image_file(\"CEO.jpeg\") #image path CEO.jpeg , CEO2.jpeg\n",
    "img1=cv2.cvtColor(img1,cv2.COLOR_BGR2RGB)\n",
    "img2=face_recognition.load_image_file(\"CEO2.jpeg\") #image path Ronaldo.jpeg , Ronaldo2.jpeg\n",
    "img2=cv2.cvtColor(img2,cv2.COLOR_BGR2RGB)\n",
    "\n",
    "\n",
    "#####################################################################below one is first image \n",
    "\n",
    "faceloc1=face_recognition.face_locations(img1)[0]#========this one is where thies image is loc\n",
    "encode1=face_recognition.face_encodings(img1)[0]#=========this one is encoding the image\n",
    "\n",
    "\n",
    "#======================================================================below second image\n",
    "\n",
    "faceloc2=face_recognition.face_locations(img2)[0]#========this one is where thies image is loc\n",
    "encode2=face_recognition.face_encodings(img2)[0]#=========this one is encoding the image\n",
    "\n",
    "################################################################################################\n",
    "\n",
    "\n",
    "result=face_recognition.compare_faces([encode1],encode2)  #campare the two face\n",
    "facedis=face_recognition.face_distance([encode1],encode2) #encoding the two face\n",
    "print(result,facedis)\n",
    "cv2.putText(img1,f'{result}{round(facedis[0],2)}',(50,50),cv2.FONT_HERSHEY_COMPLEX,1,(0,250,0),2)\n",
    "\n",
    "cv2.imshow(\"image1\",img1) #cv2 call \n",
    "cv2.imshow(\"image2\",img2)\n",
    "\n",
    "cv2.waitKey()\n",
    "cv2.destroyAllWindows()\n"
   ]
  },
  {
   "cell_type": "code",
   "execution_count": 7,
   "id": "a0185f5c-72df-4d1f-bc84-0317bc5fbd5d",
   "metadata": {},
   "outputs": [
    {
     "name": "stdout",
     "output_type": "stream",
     "text": [
      "[True]\n",
      "[0.44078773]\n"
     ]
    },
    {
     "data": {
      "text/plain": [
       "48"
      ]
     },
     "execution_count": 7,
     "metadata": {},
     "output_type": "execute_result"
    }
   ],
   "source": [
    "import face_recognition\n",
    "import cv2\n",
    "\n",
    "image1=face_recognition.load_image_file(\"ajith.jpg\")\n",
    "image2=face_recognition.load_image_file(\"ajith2.jpeg\")\n",
    "\n",
    "fl1=face_recognition.face_locations(image1)[0]\n",
    "e1=face_recognition.face_encodings(image1)[0]\n",
    "\n",
    "fl2=face_recognition.face_locations(image2)[0]\n",
    "e2=face_recognition.face_encodings(image2)[0]\n",
    "\n",
    "comper=face_recognition.compare_faces([e1],e2)\n",
    "print(comper)\n",
    "distance=face_recognition.face_distance([e1],e2)\n",
    "print(distance)\n",
    "\n",
    "cv2.imshow(\"image1\",image1)\n",
    "cv2.imshow(\"image2\",image2)\n",
    "cv2.waitKey()\n"
   ]
  },
  {
   "cell_type": "code",
   "execution_count": null,
   "id": "1db4882d-5c49-4bbf-b113-b17fcb72897d",
   "metadata": {},
   "outputs": [],
   "source": []
  }
 ],
 "metadata": {
  "kernelspec": {
   "display_name": "Python 3 (ipykernel)",
   "language": "python",
   "name": "python3"
  },
  "language_info": {
   "codemirror_mode": {
    "name": "ipython",
    "version": 3
   },
   "file_extension": ".py",
   "mimetype": "text/x-python",
   "name": "python",
   "nbconvert_exporter": "python",
   "pygments_lexer": "ipython3",
   "version": "3.11.5"
  }
 },
 "nbformat": 4,
 "nbformat_minor": 5
}
